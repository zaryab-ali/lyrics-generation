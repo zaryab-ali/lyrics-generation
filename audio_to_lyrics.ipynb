{
  "cells": [
    {
      "cell_type": "markdown",
      "metadata": {
        "id": "view-in-github",
        "colab_type": "text"
      },
      "source": [
        "<a href=\"https://colab.research.google.com/github/zaryab-ali/lyrics-generation/blob/main/audio_to_lyrics.ipynb\" target=\"_parent\"><img src=\"https://colab.research.google.com/assets/colab-badge.svg\" alt=\"Open In Colab\"/></a>"
      ]
    },
    {
      "cell_type": "code",
      "execution_count": null,
      "metadata": {
        "colab": {
          "base_uri": "https://localhost:8080/"
        },
        "id": "eBDImGBX8Jgv",
        "outputId": "4a7225b5-a72b-4087-d76c-b723cc2d7fa8"
      },
      "outputs": [
        {
          "name": "stdout",
          "output_type": "stream",
          "text": [
            "Looking in indexes: https://pypi.org/simple, https://us-python.pkg.dev/colab-wheels/public/simple/\n",
            "Collecting pydub\n",
            "  Downloading pydub-0.25.1-py2.py3-none-any.whl (32 kB)\n",
            "Installing collected packages: pydub\n",
            "Successfully installed pydub-0.25.1\n",
            "Looking in indexes: https://pypi.org/simple, https://us-python.pkg.dev/colab-wheels/public/simple/\n",
            "Collecting SpeechRecognition\n",
            "  Downloading SpeechRecognition-3.10.0-py2.py3-none-any.whl (32.8 MB)\n",
            "\u001b[2K     \u001b[90m━━━━━━━━━━━━━━━━━━━━━━━━━━━━━━━━━━━━━━━━\u001b[0m \u001b[32m32.8/32.8 MB\u001b[0m \u001b[31m71.4 MB/s\u001b[0m eta \u001b[36m0:00:00\u001b[0m\n",
            "\u001b[?25hRequirement already satisfied: requests>=2.26.0 in /usr/local/lib/python3.10/dist-packages (from SpeechRecognition) (2.27.1)\n",
            "Requirement already satisfied: urllib3<1.27,>=1.21.1 in /usr/local/lib/python3.10/dist-packages (from requests>=2.26.0->SpeechRecognition) (1.26.15)\n",
            "Requirement already satisfied: certifi>=2017.4.17 in /usr/local/lib/python3.10/dist-packages (from requests>=2.26.0->SpeechRecognition) (2022.12.7)\n",
            "Requirement already satisfied: charset-normalizer~=2.0.0 in /usr/local/lib/python3.10/dist-packages (from requests>=2.26.0->SpeechRecognition) (2.0.12)\n",
            "Requirement already satisfied: idna<4,>=2.5 in /usr/local/lib/python3.10/dist-packages (from requests>=2.26.0->SpeechRecognition) (3.4)\n",
            "Installing collected packages: SpeechRecognition\n",
            "Successfully installed SpeechRecognition-3.10.0\n",
            "Looking in indexes: https://pypi.org/simple, https://us-python.pkg.dev/colab-wheels/public/simple/\n",
            "Requirement already satisfied: flask in /usr/local/lib/python3.10/dist-packages (2.2.4)\n",
            "Requirement already satisfied: Werkzeug>=2.2.2 in /usr/local/lib/python3.10/dist-packages (from flask) (2.3.0)\n",
            "Requirement already satisfied: Jinja2>=3.0 in /usr/local/lib/python3.10/dist-packages (from flask) (3.1.2)\n",
            "Requirement already satisfied: itsdangerous>=2.0 in /usr/local/lib/python3.10/dist-packages (from flask) (2.1.2)\n",
            "Requirement already satisfied: click>=8.0 in /usr/local/lib/python3.10/dist-packages (from flask) (8.1.3)\n",
            "Requirement already satisfied: MarkupSafe>=2.0 in /usr/local/lib/python3.10/dist-packages (from Jinja2>=3.0->flask) (2.1.2)\n",
            "Looking in indexes: https://pypi.org/simple, https://us-python.pkg.dev/colab-wheels/public/simple/\n",
            "Collecting pyngrok\n",
            "  Downloading pyngrok-6.0.0.tar.gz (681 kB)\n",
            "\u001b[2K     \u001b[90m━━━━━━━━━━━━━━━━━━━━━━━━━━━━━━━━━━━━━━\u001b[0m \u001b[32m681.2/681.2 kB\u001b[0m \u001b[31m36.3 MB/s\u001b[0m eta \u001b[36m0:00:00\u001b[0m\n",
            "\u001b[?25h  Preparing metadata (setup.py) ... \u001b[?25l\u001b[?25hdone\n",
            "Requirement already satisfied: PyYAML in /usr/local/lib/python3.10/dist-packages (from pyngrok) (6.0)\n",
            "Building wheels for collected packages: pyngrok\n",
            "  Building wheel for pyngrok (setup.py) ... \u001b[?25l\u001b[?25hdone\n",
            "  Created wheel for pyngrok: filename=pyngrok-6.0.0-py3-none-any.whl size=19867 sha256=e3b83829186b77f40091f34b8eb6b163d318eaf5594b14c51a8df991aa6e7a7e\n",
            "  Stored in directory: /root/.cache/pip/wheels/5c/42/78/0c3d438d7f5730451a25f7ac6cbf4391759d22a67576ed7c2c\n",
            "Successfully built pyngrok\n",
            "Installing collected packages: pyngrok\n",
            "Successfully installed pyngrok-6.0.0\n"
          ]
        }
      ],
      "source": [
        "!pip install pydub\n",
        "!pip install SpeechRecognition\n",
        "!pip install flask\n",
        "!pip install pyngrok"
      ]
    },
    {
      "cell_type": "code",
      "execution_count": null,
      "metadata": {
        "colab": {
          "base_uri": "https://localhost:8080/"
        },
        "id": "YQ1uYmLFjQsQ",
        "outputId": "c40c0ac3-8c30-4bee-aabb-705ff3129416"
      },
      "outputs": [
        {
          "name": "stdout",
          "output_type": "stream",
          "text": [
            "Looking in indexes: https://pypi.org/simple, https://us-python.pkg.dev/colab-wheels/public/simple/\n",
            "Requirement already satisfied: gunicorn in /usr/local/lib/python3.9/dist-packages (20.1.0)\n",
            "Requirement already satisfied: setuptools>=3.0 in /usr/local/lib/python3.9/dist-packages (from gunicorn) (67.6.1)\n"
          ]
        }
      ],
      "source": [
        "!pip install gunicorn"
      ]
    },
    {
      "cell_type": "code",
      "execution_count": null,
      "metadata": {
        "id": "yn5xQK6IEKWO"
      },
      "outputs": [],
      "source": [
        "!pip freeze >> requirements.txt"
      ]
    },
    {
      "cell_type": "code",
      "execution_count": null,
      "metadata": {
        "id": "FriM8lpLjd9V"
      },
      "outputs": [],
      "source": [
        "import speech_recognition as sr\n",
        "from pydub import AudioSegment\n",
        "from pydub.utils import make_chunks\n",
        "import os\n",
        "import requests\n",
        "from pathlib import Path\n",
        "#from flask.app import jsonify\n",
        "from flask import Flask\n",
        "from pyngrok import ngrok\n"
      ]
    },
    {
      "cell_type": "code",
      "execution_count": null,
      "metadata": {
        "colab": {
          "base_uri": "https://localhost:8080/"
        },
        "id": "6QZQw76XRSzW",
        "outputId": "d7a59c6c-44c0-49de-fe45-2c522b4e59dd"
      },
      "outputs": [
        {
          "name": "stdout",
          "output_type": "stream",
          "text": [
            "Name: SpeechRecognition\n",
            "Version: 3.10.0\n",
            "Summary: Library for performing speech recognition, with support for several engines and APIs, online and offline.\n",
            "Home-page: https://github.com/Uberi/speech_recognition#readme\n",
            "Author: Anthony Zhang (Uberi)\n",
            "Author-email: azhang9@gmail.com\n",
            "License: BSD\n",
            "Location: /usr/local/lib/python3.9/dist-packages\n",
            "Requires: requests\n",
            "Required-by: \n",
            "Name: pydub\n",
            "Version: 0.25.1\n",
            "Summary: Manipulate audio with an simple and easy high level interface\n",
            "Home-page: http://pydub.com\n",
            "Author: James Robert\n",
            "Author-email: jiaaro@gmail.com\n",
            "License: MIT\n",
            "Location: /usr/local/lib/python3.9/dist-packages\n",
            "Requires: \n",
            "Required-by: \n",
            "Name: requests\n",
            "Version: 2.27.1\n",
            "Summary: Python HTTP for Humans.\n",
            "Home-page: https://requests.readthedocs.io\n",
            "Author: Kenneth Reitz\n",
            "Author-email: me@kennethreitz.org\n",
            "License: Apache 2.0\n",
            "Location: /usr/local/lib/python3.9/dist-packages\n",
            "Requires: certifi, charset-normalizer, idna, urllib3\n",
            "Required-by: CacheControl, community, earthengine-api, fastai, fix-yahoo-finance, folium, gdown, google-api-core, google-cloud-bigquery, google-cloud-storage, google-colab, gspread, kaggle, pandas-datareader, pandas-profiling, panel, pooch, pymystem3, requests-oauthlib, spacy, SpeechRecognition, Sphinx, tensorboard, tensorflow-datasets, torchtext, torchvision, tweepy\n",
            "Name: Flask\n",
            "Version: 2.2.3\n",
            "Summary: A simple framework for building complex web applications.\n",
            "Home-page: https://palletsprojects.com/p/flask\n",
            "Author: Armin Ronacher\n",
            "Author-email: armin.ronacher@active-4.com\n",
            "License: BSD-3-Clause\n",
            "Location: /usr/local/lib/python3.9/dist-packages\n",
            "Requires: click, importlib-metadata, itsdangerous, Jinja2, Werkzeug\n",
            "Required-by: community\n",
            "Name: pathlib\n",
            "Version: 1.0.1\n",
            "Summary: Object-oriented filesystem paths\n",
            "Home-page: https://pathlib.readthedocs.org/\n",
            "Author: Antoine Pitrou\n",
            "Author-email: solipsis@pitrou.net\n",
            "License: MIT License\n",
            "Location: /usr/local/lib/python3.9/dist-packages\n",
            "Requires: \n",
            "Required-by: \n",
            "Name: requests\n",
            "Version: 2.27.1\n",
            "Summary: Python HTTP for Humans.\n",
            "Home-page: https://requests.readthedocs.io\n",
            "Author: Kenneth Reitz\n",
            "Author-email: me@kennethreitz.org\n",
            "License: Apache 2.0\n",
            "Location: /usr/local/lib/python3.9/dist-packages\n",
            "Requires: certifi, charset-normalizer, idna, urllib3\n",
            "Required-by: CacheControl, community, earthengine-api, fastai, fix-yahoo-finance, folium, gdown, google-api-core, google-cloud-bigquery, google-cloud-storage, google-colab, gspread, kaggle, pandas-datareader, pandas-profiling, panel, pooch, pymystem3, requests-oauthlib, spacy, SpeechRecognition, Sphinx, tensorboard, tensorflow-datasets, torchtext, torchvision, tweepy\n"
          ]
        }
      ],
      "source": [
        "!pip show SpeechRecognition\n",
        "!pip show pydub\n",
        "!pip show requests\n",
        "!pip show flask\n",
        "!pip show pathlib\n",
        "!pip show requests"
      ]
    },
    {
      "cell_type": "code",
      "execution_count": null,
      "metadata": {
        "colab": {
          "base_uri": "https://localhost:8080/",
          "height": 73
        },
        "id": "omqbwvo1jtxh",
        "outputId": "4a2082fe-9a11-4667-8eb0-78a1ab2ec094"
      },
      "outputs": [
        {
          "data": {
            "text/html": [
              "\n",
              "     <input type=\"file\" id=\"files-24e16858-56a5-494c-8baf-cee2e402a786\" name=\"files[]\" multiple disabled\n",
              "        style=\"border:none\" />\n",
              "     <output id=\"result-24e16858-56a5-494c-8baf-cee2e402a786\">\n",
              "      Upload widget is only available when the cell has been executed in the\n",
              "      current browser session. Please rerun this cell to enable.\n",
              "      </output>\n",
              "      <script>// Copyright 2017 Google LLC\n",
              "//\n",
              "// Licensed under the Apache License, Version 2.0 (the \"License\");\n",
              "// you may not use this file except in compliance with the License.\n",
              "// You may obtain a copy of the License at\n",
              "//\n",
              "//      http://www.apache.org/licenses/LICENSE-2.0\n",
              "//\n",
              "// Unless required by applicable law or agreed to in writing, software\n",
              "// distributed under the License is distributed on an \"AS IS\" BASIS,\n",
              "// WITHOUT WARRANTIES OR CONDITIONS OF ANY KIND, either express or implied.\n",
              "// See the License for the specific language governing permissions and\n",
              "// limitations under the License.\n",
              "\n",
              "/**\n",
              " * @fileoverview Helpers for google.colab Python module.\n",
              " */\n",
              "(function(scope) {\n",
              "function span(text, styleAttributes = {}) {\n",
              "  const element = document.createElement('span');\n",
              "  element.textContent = text;\n",
              "  for (const key of Object.keys(styleAttributes)) {\n",
              "    element.style[key] = styleAttributes[key];\n",
              "  }\n",
              "  return element;\n",
              "}\n",
              "\n",
              "// Max number of bytes which will be uploaded at a time.\n",
              "const MAX_PAYLOAD_SIZE = 100 * 1024;\n",
              "\n",
              "function _uploadFiles(inputId, outputId) {\n",
              "  const steps = uploadFilesStep(inputId, outputId);\n",
              "  const outputElement = document.getElementById(outputId);\n",
              "  // Cache steps on the outputElement to make it available for the next call\n",
              "  // to uploadFilesContinue from Python.\n",
              "  outputElement.steps = steps;\n",
              "\n",
              "  return _uploadFilesContinue(outputId);\n",
              "}\n",
              "\n",
              "// This is roughly an async generator (not supported in the browser yet),\n",
              "// where there are multiple asynchronous steps and the Python side is going\n",
              "// to poll for completion of each step.\n",
              "// This uses a Promise to block the python side on completion of each step,\n",
              "// then passes the result of the previous step as the input to the next step.\n",
              "function _uploadFilesContinue(outputId) {\n",
              "  const outputElement = document.getElementById(outputId);\n",
              "  const steps = outputElement.steps;\n",
              "\n",
              "  const next = steps.next(outputElement.lastPromiseValue);\n",
              "  return Promise.resolve(next.value.promise).then((value) => {\n",
              "    // Cache the last promise value to make it available to the next\n",
              "    // step of the generator.\n",
              "    outputElement.lastPromiseValue = value;\n",
              "    return next.value.response;\n",
              "  });\n",
              "}\n",
              "\n",
              "/**\n",
              " * Generator function which is called between each async step of the upload\n",
              " * process.\n",
              " * @param {string} inputId Element ID of the input file picker element.\n",
              " * @param {string} outputId Element ID of the output display.\n",
              " * @return {!Iterable<!Object>} Iterable of next steps.\n",
              " */\n",
              "function* uploadFilesStep(inputId, outputId) {\n",
              "  const inputElement = document.getElementById(inputId);\n",
              "  inputElement.disabled = false;\n",
              "\n",
              "  const outputElement = document.getElementById(outputId);\n",
              "  outputElement.innerHTML = '';\n",
              "\n",
              "  const pickedPromise = new Promise((resolve) => {\n",
              "    inputElement.addEventListener('change', (e) => {\n",
              "      resolve(e.target.files);\n",
              "    });\n",
              "  });\n",
              "\n",
              "  const cancel = document.createElement('button');\n",
              "  inputElement.parentElement.appendChild(cancel);\n",
              "  cancel.textContent = 'Cancel upload';\n",
              "  const cancelPromise = new Promise((resolve) => {\n",
              "    cancel.onclick = () => {\n",
              "      resolve(null);\n",
              "    };\n",
              "  });\n",
              "\n",
              "  // Wait for the user to pick the files.\n",
              "  const files = yield {\n",
              "    promise: Promise.race([pickedPromise, cancelPromise]),\n",
              "    response: {\n",
              "      action: 'starting',\n",
              "    }\n",
              "  };\n",
              "\n",
              "  cancel.remove();\n",
              "\n",
              "  // Disable the input element since further picks are not allowed.\n",
              "  inputElement.disabled = true;\n",
              "\n",
              "  if (!files) {\n",
              "    return {\n",
              "      response: {\n",
              "        action: 'complete',\n",
              "      }\n",
              "    };\n",
              "  }\n",
              "\n",
              "  for (const file of files) {\n",
              "    const li = document.createElement('li');\n",
              "    li.append(span(file.name, {fontWeight: 'bold'}));\n",
              "    li.append(span(\n",
              "        `(${file.type || 'n/a'}) - ${file.size} bytes, ` +\n",
              "        `last modified: ${\n",
              "            file.lastModifiedDate ? file.lastModifiedDate.toLocaleDateString() :\n",
              "                                    'n/a'} - `));\n",
              "    const percent = span('0% done');\n",
              "    li.appendChild(percent);\n",
              "\n",
              "    outputElement.appendChild(li);\n",
              "\n",
              "    const fileDataPromise = new Promise((resolve) => {\n",
              "      const reader = new FileReader();\n",
              "      reader.onload = (e) => {\n",
              "        resolve(e.target.result);\n",
              "      };\n",
              "      reader.readAsArrayBuffer(file);\n",
              "    });\n",
              "    // Wait for the data to be ready.\n",
              "    let fileData = yield {\n",
              "      promise: fileDataPromise,\n",
              "      response: {\n",
              "        action: 'continue',\n",
              "      }\n",
              "    };\n",
              "\n",
              "    // Use a chunked sending to avoid message size limits. See b/62115660.\n",
              "    let position = 0;\n",
              "    do {\n",
              "      const length = Math.min(fileData.byteLength - position, MAX_PAYLOAD_SIZE);\n",
              "      const chunk = new Uint8Array(fileData, position, length);\n",
              "      position += length;\n",
              "\n",
              "      const base64 = btoa(String.fromCharCode.apply(null, chunk));\n",
              "      yield {\n",
              "        response: {\n",
              "          action: 'append',\n",
              "          file: file.name,\n",
              "          data: base64,\n",
              "        },\n",
              "      };\n",
              "\n",
              "      let percentDone = fileData.byteLength === 0 ?\n",
              "          100 :\n",
              "          Math.round((position / fileData.byteLength) * 100);\n",
              "      percent.textContent = `${percentDone}% done`;\n",
              "\n",
              "    } while (position < fileData.byteLength);\n",
              "  }\n",
              "\n",
              "  // All done.\n",
              "  yield {\n",
              "    response: {\n",
              "      action: 'complete',\n",
              "    }\n",
              "  };\n",
              "}\n",
              "\n",
              "scope.google = scope.google || {};\n",
              "scope.google.colab = scope.google.colab || {};\n",
              "scope.google.colab._files = {\n",
              "  _uploadFiles,\n",
              "  _uploadFilesContinue,\n",
              "};\n",
              "})(self);\n",
              "</script> "
            ],
            "text/plain": [
              "<IPython.core.display.HTML object>"
            ]
          },
          "metadata": {},
          "output_type": "display_data"
        },
        {
          "name": "stdout",
          "output_type": "stream",
          "text": [
            "Saving escp.mp3 to escp.mp3\n"
          ]
        }
      ],
      "source": [
        "from google.colab import files\n",
        "uploaded = files.upload()"
      ]
    },
    {
      "cell_type": "code",
      "execution_count": null,
      "metadata": {
        "id": "Ro2Mm_l78w13"
      },
      "outputs": [],
      "source": [
        "filepath = \"https://firebasestorage.googleapis.com/v0/b/products-c26e6.appspot.com/o/WhatsApp%20Audio%202023-03-13%20at%204.50.07%20PM.mp3?alt=media&token=b4be8a7d-2995-4ca7-b94e-c33767c4a82a\"\n",
        "res = requests.get(filepath)\n"
      ]
    },
    {
      "cell_type": "code",
      "execution_count": null,
      "metadata": {
        "id": "nCPdBqvfj_z-"
      },
      "outputs": [],
      "source": [
        "sound = AudioSegment.from_mp3(\"escp.mp3\")\n",
        "sound.export(\"blindingLights.wav\",format=\"wav\")\n",
        "filename = \"blindingLights.wav\""
      ]
    },
    {
      "cell_type": "code",
      "execution_count": null,
      "metadata": {
        "id": "iUMvntBIkEIe"
      },
      "outputs": [],
      "source": [
        "os.mkdir(\"/content/temp\")\n",
        "myaudio = AudioSegment.from_wav(filename)\n",
        "chunk_lenght_ms = 5000\n",
        "chunks = make_chunks(myaudio,chunk_lenght_ms)\n",
        "for i, chunk in enumerate(chunks):\n",
        "  chunkName = '/content/temp/'+filename+\"_{0}.wav\".format(i)\n",
        "  chunk.export(chunkName,format=\"wav\")\n",
        "  #filename = \"aaa.wav\"\n",
        ""
      ]
    },
    {
      "cell_type": "code",
      "execution_count": null,
      "metadata": {
        "colab": {
          "base_uri": "https://localhost:8080/"
        },
        "id": "kyhhW2KD0Ia8",
        "outputId": "1ab274ab-8ccd-4f17-a119-4de148dd6004"
      },
      "outputs": [
        {
          "name": "stdout",
          "output_type": "stream",
          "text": [
            "blindingLights.wav_5.wav\n",
            "blindingLights.wav_1.wav\n",
            "blindingLights.wav_0.wav\n",
            "blindingLights.wav_2.wav\n",
            "blindingLights.wav_4.wav\n",
            "blindingLights.wav_3.wav\n"
          ]
        }
      ],
      "source": [
        "for files in os.listdir(\"/content/temp\"):\n",
        "  filesss = \"/content/temp/\"+files\n",
        "  print(files)\n",
        "  # r = sr.Recognizer()\n",
        "\n",
        "  # # open the file\n",
        "  # with sr.AudioFile(filesss) as source:\n",
        "  #     # listen for the data (load audio to memory)\n",
        "  #     audio_data = r.record(source)\n",
        "  #     # recognize (convert from speech to text)\n",
        "  #     try:\n",
        "  #       text = r.recognize_google(audio_data)\n",
        "  #       print(text)\n",
        "  #     except:\n",
        "  #       print(\"...\")"
      ]
    },
    {
      "cell_type": "code",
      "execution_count": null,
      "metadata": {
        "id": "AX6_4QgLIfFH"
      },
      "outputs": [],
      "source": [
        "\n",
        "r = sr.Recognizer()\n",
        "\n",
        "# open the file\n",
        "with sr.AudioFile(filename) as source:\n",
        "    # listen for the data (load audio to memory)\n",
        "    audio_data = r.record(source)\n",
        "    # recognize (convert from speech to text)\n",
        "    try:\n",
        "      text = r.recognize_google(audio_data)\n",
        "      with open('/content/temp/readme.txt', 'w') as f:\n",
        "          f.write(text)\n",
        "    except:\n",
        "      print(\"...\")"
      ]
    },
    {
      "cell_type": "code",
      "execution_count": null,
      "metadata": {
        "colab": {
          "background_save": true,
          "base_uri": "https://localhost:8080/"
        },
        "id": "1_QkmE5JCFCw",
        "outputId": "d8cd1c01-fc4a-4b45-9258-184330f805f5"
      },
      "outputs": [
        {
          "name": "stderr",
          "output_type": "stream",
          "text": [
            "WARNING:pyngrok.process.ngrok:t=2023-05-16T13:30:58+0000 lvl=warn msg=\"ngrok config file found at legacy location, move to XDG location\" xdg_path=/root/.config/ngrok/ngrok.yml legacy_path=/root/.ngrok2/ngrok.yml\n"
          ]
        },
        {
          "name": "stdout",
          "output_type": "stream",
          "text": [
            "https://b0c2-34-85-172-137.ngrok-free.app\n",
            " * Serving Flask app '__main__'\n",
            " * Debug mode: off\n"
          ]
        },
        {
          "name": "stderr",
          "output_type": "stream",
          "text": [
            "INFO:werkzeug:\u001b[31m\u001b[1mWARNING: This is a development server. Do not use it in a production deployment. Use a production WSGI server instead.\u001b[0m\n",
            " * Running on http://127.0.0.1:5000\n",
            "INFO:werkzeug:\u001b[33mPress CTRL+C to quit\u001b[0m\n"
          ]
        }
      ],
      "source": [
        "port_no = 5000\n",
        "\n",
        "\n",
        "\n",
        "#final_function(\"fff\")\n",
        "\n",
        "app = Flask(__name__)\n",
        "ngrok.set_auth_token(\"2IXKwQkflx7vu7q0FwBA7Uaj2yV_62xnbYLu3euksYJiUmLaT\")\n",
        "public_url = ngrok.connect(port_no).public_url\n",
        "\n",
        "@app.route(\"/\")\n",
        "def shit():\n",
        "  return f\"hello\"\n",
        "\n",
        "@app.route(\"/try/<string:what>\")\n",
        "def inging(what):\n",
        "  return f\"u wrote {what}\"\n",
        "\n",
        "@app.route(\"/final/<path:url>\")\n",
        "def download(url, out_file=\"audio.mp3\"):\n",
        "    big = []\n",
        "    text = \"\"\n",
        "    out_file = Path(f\"/content/{out_file}\").expanduser()\n",
        "    resp = requests.get(url)\n",
        "    resp.raise_for_status()\n",
        "    with open(out_file, \"wb\") as fout:\n",
        "        fout.write(resp.content)\n",
        "    sound = AudioSegment.from_mp3(\"/content/audio.mp3\")\n",
        "    sound.export(\"blindingLights.wav\",format=\"wav\")\n",
        "    filename = \"blindingLights.wav\"\n",
        "    #os.mkdir(\"/content\")\n",
        "    os.mkdir(\"/content/temp\")\n",
        "    myaudio = AudioSegment.from_wav(filename)\n",
        "    chunk_lenght_ms = 5000\n",
        "    chunks = make_chunks(myaudio,chunk_lenght_ms)\n",
        "    for i, chunk in enumerate(chunks):\n",
        "      chunkName = '/content/temp/'+filename+\"_{0}.wav\".format(i)\n",
        "      chunk.export(chunkName,format=\"wav\")\n",
        "\n",
        "\n",
        "    for files in sorted(os.listdir(\"/content/temp\")):\n",
        "      filesss = \"/content/temp/\"+files\n",
        "      print(files)\n",
        "      r = sr.Recognizer()\n",
        "\n",
        "      # open the file\n",
        "      with sr.AudioFile(filesss) as source:\n",
        "          # listen for the data (load audio to memory)\n",
        "          audio_data = r.record(source)\n",
        "          # recognize (convert from speech to text)\n",
        "          try:\n",
        "            text = r.recognize_google(audio_data)\n",
        "            print(text)\n",
        "          except:\n",
        "            print(\"...\")\n",
        "            text = \"...\"\n",
        "      #small = [text]\n",
        "      big.append(text)\n",
        "    os.remove(\"audio.mp3\")\n",
        "    os.remove(\"blindingLights.wav\")\n",
        "    for files in sorted(os.listdir(\"/content/temp\")):\n",
        "      filesss = \"/content/temp/\"+files\n",
        "      os.remove(filesss)\n",
        "    os.rmdir(\"/content/temp\")\n",
        "    #j = {\"lyrics\" : big}\n",
        "    print(big)\n",
        "    return(big)\n",
        "\n",
        "print(public_url)\n",
        "app.run(port=port_no)\n",
        "\n",
        "# if __name__ == \"__main__\":\n",
        "#     #npr = \"https://firebasestorage.googleapis.com/v0/b/products-c26e6.appspot.com/o/WhatsApp%20Audio%202023-03-13%20at%204.50.07%20PM.mp3?alt=media&token=b4be8a7d-2995-4ca7-b94e-c33767c4a82a\"\n",
        "#     download(\"https://firebasestorage.googleapis.com/v0/b/products-c26e6.appspot.com/o/WhatsApp%20Audio%202023-03-13%20at%204.50.07%20PM.mp3?alt=media&token=b4be8a7d-2995-4ca7-b94e-c33767c4a82a\")\n"
      ]
    },
    {
      "cell_type": "code",
      "execution_count": null,
      "metadata": {
        "id": "uoHxZBMqIhC-"
      },
      "outputs": [],
      "source": [
        "!pip show pydub"
      ]
    },
    {
      "cell_type": "code",
      "execution_count": null,
      "metadata": {
        "colab": {
          "base_uri": "https://localhost:8080/",
          "height": 435
        },
        "id": "xDXHpNoiI4vO",
        "outputId": "8ac62c39-fa61-40f5-967e-9e68bb05374c"
      },
      "outputs": [
        {
          "name": "stderr",
          "output_type": "stream",
          "text": [
            "ERROR:pyngrok.process.ngrok:t=2023-03-19T09:02:18+0000 lvl=eror msg=\"failed to auth\" obj=tunnels.session err=\"Your account is limited to 1 simultaneous ngrok agent session.\\nActive ngrok agent sessions in region 'us':\\n  - ts_2NE5YzOFe93teyMWpKLrjqct8Ik (35.236.216.197)\\r\\n\\r\\nERR_NGROK_108\\r\\n\"\n"
          ]
        },
        {
          "ename": "PyngrokNgrokError",
          "evalue": "ignored",
          "output_type": "error",
          "traceback": [
            "\u001b[0;31m---------------------------------------------------------------------------\u001b[0m",
            "\u001b[0;31mPyngrokNgrokError\u001b[0m                         Traceback (most recent call last)",
            "\u001b[0;32m<ipython-input-4-0983a4ddaf28>\u001b[0m in \u001b[0;36m<module>\u001b[0;34m\u001b[0m\n\u001b[1;32m      7\u001b[0m \u001b[0mapp\u001b[0m \u001b[0;34m=\u001b[0m \u001b[0mFlask\u001b[0m\u001b[0;34m(\u001b[0m\u001b[0m__name__\u001b[0m\u001b[0;34m)\u001b[0m\u001b[0;34m\u001b[0m\u001b[0;34m\u001b[0m\u001b[0m\n\u001b[1;32m      8\u001b[0m \u001b[0mngrok\u001b[0m\u001b[0;34m.\u001b[0m\u001b[0mset_auth_token\u001b[0m\u001b[0;34m(\u001b[0m\u001b[0;34m\"2IXKwQkflx7vu7q0FwBA7Uaj2yV_62xnbYLu3euksYJiUmLaT\"\u001b[0m\u001b[0;34m)\u001b[0m\u001b[0;34m\u001b[0m\u001b[0;34m\u001b[0m\u001b[0m\n\u001b[0;32m----> 9\u001b[0;31m \u001b[0mpublic_url\u001b[0m \u001b[0;34m=\u001b[0m \u001b[0mngrok\u001b[0m\u001b[0;34m.\u001b[0m\u001b[0mconnect\u001b[0m\u001b[0;34m(\u001b[0m\u001b[0mport_no\u001b[0m\u001b[0;34m)\u001b[0m\u001b[0;34m.\u001b[0m\u001b[0mpublic_url\u001b[0m\u001b[0;34m\u001b[0m\u001b[0;34m\u001b[0m\u001b[0m\n\u001b[0m\u001b[1;32m     10\u001b[0m \u001b[0;34m\u001b[0m\u001b[0m\n\u001b[1;32m     11\u001b[0m \u001b[0;34m@\u001b[0m\u001b[0mapp\u001b[0m\u001b[0;34m.\u001b[0m\u001b[0mroute\u001b[0m\u001b[0;34m(\u001b[0m\u001b[0;34m\"/\"\u001b[0m\u001b[0;34m)\u001b[0m\u001b[0;34m\u001b[0m\u001b[0;34m\u001b[0m\u001b[0m\n",
            "\u001b[0;32m/usr/local/lib/python3.9/dist-packages/pyngrok/ngrok.py\u001b[0m in \u001b[0;36mconnect\u001b[0;34m(addr, proto, name, pyngrok_config, **options)\u001b[0m\n\u001b[1;32m    265\u001b[0m         \u001b[0moptions\u001b[0m\u001b[0;34m.\u001b[0m\u001b[0mpop\u001b[0m\u001b[0;34m(\u001b[0m\u001b[0;34m\"bind_tls\"\u001b[0m\u001b[0;34m)\u001b[0m\u001b[0;34m\u001b[0m\u001b[0;34m\u001b[0m\u001b[0m\n\u001b[1;32m    266\u001b[0m \u001b[0;34m\u001b[0m\u001b[0m\n\u001b[0;32m--> 267\u001b[0;31m     \u001b[0mapi_url\u001b[0m \u001b[0;34m=\u001b[0m \u001b[0mget_ngrok_process\u001b[0m\u001b[0;34m(\u001b[0m\u001b[0mpyngrok_config\u001b[0m\u001b[0;34m)\u001b[0m\u001b[0;34m.\u001b[0m\u001b[0mapi_url\u001b[0m\u001b[0;34m\u001b[0m\u001b[0;34m\u001b[0m\u001b[0m\n\u001b[0m\u001b[1;32m    268\u001b[0m \u001b[0;34m\u001b[0m\u001b[0m\n\u001b[1;32m    269\u001b[0m     \u001b[0mlogger\u001b[0m\u001b[0;34m.\u001b[0m\u001b[0mdebug\u001b[0m\u001b[0;34m(\u001b[0m\u001b[0;34m\"Creating tunnel with options: {}\"\u001b[0m\u001b[0;34m.\u001b[0m\u001b[0mformat\u001b[0m\u001b[0;34m(\u001b[0m\u001b[0moptions\u001b[0m\u001b[0;34m)\u001b[0m\u001b[0;34m)\u001b[0m\u001b[0;34m\u001b[0m\u001b[0;34m\u001b[0m\u001b[0m\n",
            "\u001b[0;32m/usr/local/lib/python3.9/dist-packages/pyngrok/ngrok.py\u001b[0m in \u001b[0;36mget_ngrok_process\u001b[0;34m(pyngrok_config)\u001b[0m\n\u001b[1;32m    162\u001b[0m     \u001b[0minstall_ngrok\u001b[0m\u001b[0;34m(\u001b[0m\u001b[0mpyngrok_config\u001b[0m\u001b[0;34m)\u001b[0m\u001b[0;34m\u001b[0m\u001b[0;34m\u001b[0m\u001b[0m\n\u001b[1;32m    163\u001b[0m \u001b[0;34m\u001b[0m\u001b[0m\n\u001b[0;32m--> 164\u001b[0;31m     \u001b[0;32mreturn\u001b[0m \u001b[0mprocess\u001b[0m\u001b[0;34m.\u001b[0m\u001b[0mget_process\u001b[0m\u001b[0;34m(\u001b[0m\u001b[0mpyngrok_config\u001b[0m\u001b[0;34m)\u001b[0m\u001b[0;34m\u001b[0m\u001b[0;34m\u001b[0m\u001b[0m\n\u001b[0m\u001b[1;32m    165\u001b[0m \u001b[0;34m\u001b[0m\u001b[0m\n\u001b[1;32m    166\u001b[0m \u001b[0;34m\u001b[0m\u001b[0m\n",
            "\u001b[0;32m/usr/local/lib/python3.9/dist-packages/pyngrok/process.py\u001b[0m in \u001b[0;36mget_process\u001b[0;34m(pyngrok_config)\u001b[0m\n\u001b[1;32m    301\u001b[0m         \u001b[0;32mreturn\u001b[0m \u001b[0m_current_processes\u001b[0m\u001b[0;34m[\u001b[0m\u001b[0mpyngrok_config\u001b[0m\u001b[0;34m.\u001b[0m\u001b[0mngrok_path\u001b[0m\u001b[0;34m]\u001b[0m\u001b[0;34m\u001b[0m\u001b[0;34m\u001b[0m\u001b[0m\n\u001b[1;32m    302\u001b[0m \u001b[0;34m\u001b[0m\u001b[0m\n\u001b[0;32m--> 303\u001b[0;31m     \u001b[0;32mreturn\u001b[0m \u001b[0m_start_process\u001b[0m\u001b[0;34m(\u001b[0m\u001b[0mpyngrok_config\u001b[0m\u001b[0;34m)\u001b[0m\u001b[0;34m\u001b[0m\u001b[0;34m\u001b[0m\u001b[0m\n\u001b[0m\u001b[1;32m    304\u001b[0m \u001b[0;34m\u001b[0m\u001b[0m\n\u001b[1;32m    305\u001b[0m \u001b[0;34m\u001b[0m\u001b[0m\n",
            "\u001b[0;32m/usr/local/lib/python3.9/dist-packages/pyngrok/process.py\u001b[0m in \u001b[0;36m_start_process\u001b[0;34m(pyngrok_config)\u001b[0m\n\u001b[1;32m    470\u001b[0m \u001b[0;34m\u001b[0m\u001b[0m\n\u001b[1;32m    471\u001b[0m         \u001b[0;32mif\u001b[0m \u001b[0mngrok_process\u001b[0m\u001b[0;34m.\u001b[0m\u001b[0mstartup_error\u001b[0m \u001b[0;32mis\u001b[0m \u001b[0;32mnot\u001b[0m \u001b[0;32mNone\u001b[0m\u001b[0;34m:\u001b[0m\u001b[0;34m\u001b[0m\u001b[0;34m\u001b[0m\u001b[0m\n\u001b[0;32m--> 472\u001b[0;31m             raise PyngrokNgrokError(\"The ngrok process errored on start: {}.\".format(ngrok_process.startup_error),\n\u001b[0m\u001b[1;32m    473\u001b[0m                                     \u001b[0mngrok_process\u001b[0m\u001b[0;34m.\u001b[0m\u001b[0mlogs\u001b[0m\u001b[0;34m,\u001b[0m\u001b[0;34m\u001b[0m\u001b[0;34m\u001b[0m\u001b[0m\n\u001b[1;32m    474\u001b[0m                                     ngrok_process.startup_error)\n",
            "\u001b[0;31mPyngrokNgrokError\u001b[0m: The ngrok process errored on start: Your account is limited to 1 simultaneous ngrok agent session.\\nActive ngrok agent sessions in region 'us':\\n  - ts_2NE5YzOFe93teyMWpKLrjqct8Ik (35.236.216.197)\\r\\n\\r\\nERR_NGROK_108\\r\\n."
          ]
        }
      ],
      "source": [
        "from flask import Flask\n",
        "from pyngrok import ngrok\n",
        "from urllib.parse import unquote\n",
        "\n",
        "port_no = 5000\n",
        "\n",
        "app = Flask(__name__)\n",
        "ngrok.set_auth_token(\"2IXKwQkflx7vu7q0FwBA7Uaj2yV_62xnbYLu3euksYJiUmLaT\")\n",
        "public_url = ngrok.connect(port_no).public_url\n",
        "\n",
        "@app.route(\"/\")\n",
        "def shit():\n",
        "  return f\"hello\"\n",
        "\n",
        "@app.route(\"/try/<path:url>\")\n",
        "def inging(url=''):\n",
        "  out_file = Path(f\"/content/{out_file}\").expanduser()\n",
        "  resp = requests.get(url)\n",
        "  resp.raise_for_status()\n",
        "  with open(out_file, \"wb\") as fout:\n",
        "      fout.write(resp.content)\n",
        "  print(url)\n",
        "  return (\n",
        "        f\"param: {url}\\ndecoded param: {unquote(url)}\\n\",\n",
        "        200,\n",
        "        {'content-type': 'text/plain'}\n",
        "    )\n",
        "\n",
        "\n",
        "\n",
        "\n",
        "print(public_url)\n",
        "app.run(port=port_no)"
      ]
    },
    {
      "cell_type": "code",
      "execution_count": null,
      "metadata": {
        "id": "DVpDkhxKAuMz"
      },
      "outputs": [],
      "source": [
        "import os\n",
        "os.remove(\"audio.mp3\")\n",
        "os.remove(\"blindingLights.wav\")\n",
        "for files in sorted(os.listdir(\"/content/temp\")):\n",
        "  filesss = \"/content/temp/\"+files\n",
        "  os.remove(filesss)\n",
        "os.rmdir(\"/content/temp\")"
      ]
    }
  ],
  "metadata": {
    "colab": {
      "provenance": [],
      "authorship_tag": "ABX9TyOwpa5ubZut+wAVIrepjbGQ",
      "include_colab_link": true
    },
    "kernelspec": {
      "display_name": "Python 3",
      "name": "python3"
    },
    "language_info": {
      "name": "python"
    }
  },
  "nbformat": 4,
  "nbformat_minor": 0
}